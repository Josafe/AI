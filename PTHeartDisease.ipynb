{
 "cells": [
  {
   "cell_type": "code",
   "execution_count": 284,
   "metadata": {},
   "outputs": [
    {
     "name": "stdout",
     "output_type": "stream",
     "text": [
      "Using cpu device\n"
     ]
    }
   ],
   "source": [
    "import os\n",
    "import torch\n",
    "from torch import nn\n",
    "from torch.utils.data import DataLoader, TensorDataset\n",
    "from torchvision import datasets, transforms\n",
    "import numpy as np\n",
    "import matplotlib.pyplot as plt\n",
    "\n",
    "device = (\n",
    "    \"cuda\"\n",
    "    if torch.cuda.is_available()\n",
    "    else \"mps\"\n",
    "    if torch.backends.mps.is_available()\n",
    "    else \"cpu\"\n",
    ")\n",
    "print(f\"Using {device} device\")"
   ]
  },
  {
   "cell_type": "code",
   "execution_count": 285,
   "metadata": {},
   "outputs": [
    {
     "name": "stdout",
     "output_type": "stream",
     "text": [
      "NeuralNetwork(\n",
      "  (flatten): Flatten(start_dim=1, end_dim=-1)\n",
      "  (linear_relu_stack): Sequential(\n",
      "    (0): Linear(in_features=13, out_features=28, bias=True)\n",
      "    (1): ReLU()\n",
      "    (2): Linear(in_features=28, out_features=2, bias=True)\n",
      "    (3): Softmax(dim=None)\n",
      "  )\n",
      ")\n",
      "Class predita:  tensor([0, 0, 0,  ..., 0, 0, 0])\n",
      "pred_probab: \n",
      "tensor([[0.7311, 0.2689],\n",
      "        [0.7311, 0.2689],\n",
      "        [0.7311, 0.2689],\n",
      "        ...,\n",
      "        [0.7289, 0.2711],\n",
      "        [0.7308, 0.2692],\n",
      "        [0.7310, 0.2690]], grad_fn=<SoftmaxBackward0>)\n",
      "torch.Size([1025, 14])\n"
     ]
    }
   ],
   "source": [
    "class NeuralNetwork(nn.Module):\n",
    "    def __init__(self, input_layer_dimensions, hidden_layer_dimensions, output_layer_dimensions):\n",
    "        super().__init__()\n",
    "        self.flatten = nn.Flatten()\n",
    "        self.linear_relu_stack = nn.Sequential(\n",
    "            nn.Linear(input_layer_dimensions, hidden_layer_dimensions),\n",
    "            nn.ReLU(),\n",
    "            nn.Linear(hidden_layer_dimensions, output_layer_dimensions),\n",
    "            nn.Softmax()\n",
    "        )\n",
    "\n",
    "    def forward(self, x):\n",
    "        logits = self.linear_relu_stack(x)\n",
    "        return logits\n",
    "\n",
    "\n",
    "model = NeuralNetwork(13, 28, 2)\n",
    "print(model)\n",
    "\n",
    "data_path = \"/home/itibcn/Desktop/Torch/heart.csv\"\n",
    "\n",
    "#x\n",
    "data = np.genfromtxt( \n",
    "    data_path,\n",
    "    dtype=np.float32, \n",
    "    skip_header=True,\n",
    "    delimiter=\",\")\n",
    "\n",
    "X = torch.tensor(data[:,:-1], dtype=torch.float32).to(device)#Tots els valors menos l'ultima columna\n",
    "y_real = torch.tensor(data[:,-1], dtype=torch.long).to(device) #Nomes l'ultima fila\n",
    "\n",
    "tensor = torch.tensor(data)\n",
    "\n",
    "logits = model(X)\n",
    "\n",
    "split_idx = int(len(X) * 0.7)\n",
    "train = TensorDataset(X[:split_idx], y_real[:split_idx])\n",
    "test = TensorDataset(X[split_idx:], y_real[split_idx:])\n",
    "\n",
    "\n",
    "pred_probab = nn.Softmax(dim=1)(logits)\n",
    "y_pred = pred_probab.argmax(1)\n",
    "\n",
    "print(f\"Class predita:  {y_pred}\")\n",
    "\n",
    "print(\"pred_probab: \")\n",
    "print(pred_probab)\n",
    "\n",
    "#print(tensor)\n",
    "print(tensor.shape)\n"
   ]
  },
  {
   "cell_type": "code",
   "execution_count": 290,
   "metadata": {},
   "outputs": [
    {
     "name": "stdout",
     "output_type": "stream",
     "text": [
      "Epoch 1\n",
      "-------------------------------\n",
      "loss: 0.757963  [   64/  717]\n",
      "Test Error: \n",
      " Accuracy: 70.4%, Avg loss: 0.609322 \n",
      "\n",
      "Epoch 2\n",
      "-------------------------------\n",
      "loss: 0.664115  [   64/  717]\n",
      "Test Error: \n",
      " Accuracy: 70.6%, Avg loss: 0.577722 \n",
      "\n",
      "Epoch 3\n",
      "-------------------------------\n",
      "loss: 0.530758  [   64/  717]\n",
      "Test Error: \n",
      " Accuracy: 56.2%, Avg loss: 0.726442 \n",
      "\n",
      "Epoch 4\n",
      "-------------------------------\n",
      "loss: 0.751740  [   64/  717]\n",
      "Test Error: \n",
      " Accuracy: 71.4%, Avg loss: 0.588366 \n",
      "\n",
      "Epoch 5\n",
      "-------------------------------\n",
      "loss: 0.601442  [   64/  717]\n",
      "Test Error: \n",
      " Accuracy: 62.1%, Avg loss: 0.643660 \n",
      "\n",
      "Done!\n"
     ]
    }
   ],
   "source": [
    "def train_loop(dataloader, model, loss_fn, optimizer):\n",
    "    size = len(dataloader.dataset)\n",
    "    # Set the model to training mode - important for batch normalization and dropout layers\n",
    "    # Unnecessary in this situation but added for best practices\n",
    "    model.train()\n",
    "    for batch, (X, y) in enumerate(dataloader):\n",
    "        # Compute prediction and loss\n",
    "        pred = model(X)\n",
    "        loss = loss_fn(pred, y)\n",
    "\n",
    "        # Backpropagation\n",
    "        loss.backward()\n",
    "        optimizer.step()\n",
    "        optimizer.zero_grad()\n",
    "\n",
    "        if batch % 100 == 0:\n",
    "            loss, current = loss.item(), batch * batch_size + len(X)\n",
    "            print(f\"loss: {loss:>7f}  [{current:>5d}/{size:>5d}]\")\n",
    "            \n",
    "\n",
    "def test_loop(dataloader, model, loss_fn):\n",
    "    # Set the model to evaluation mode - important for batch normalization and dropout layers\n",
    "    # Unnecessary in this situation but added for best practices\n",
    "    model.eval()\n",
    "    size = len(dataloader.dataset)\n",
    "    num_batches = len(dataloader)\n",
    "    test_loss, correct = 0, 0\n",
    "\n",
    "    # Evaluating the model with torch.no_grad() ensures that no gradients are computed during test mode\n",
    "    # also serves to reduce unnecessary gradient computations and memory usage for tensors with requires_grad=True\n",
    "    with torch.no_grad():\n",
    "        for X, y in dataloader:\n",
    "            pred = model(X)\n",
    "            test_loss += loss_fn(pred, y).item()\n",
    "            correct += (pred.argmax(1) == y).type(torch.float).sum().item()\n",
    "\n",
    "    test_loss /= num_batches\n",
    "    correct /= size\n",
    "    print(f\"Test Error: \\n Accuracy: {(100*correct):>0.1f}%, Avg loss: {test_loss:>8f} \\n\")\n",
    "\n",
    "loss_fn = nn.CrossEntropyLoss()\n",
    "optimizer = torch.optim.SGD(model.parameters(), lr=learning_rate)\n",
    "\n",
    "train_dataloader = DataLoader(train, batch_size, True)\n",
    "test_dataloader = DataLoader(train, batch_size, True)\n",
    "\n",
    "\n",
    "for t in range(epochs):\n",
    "    print(f\"Epoch {t+1}\\n-------------------------------\")\n",
    "    train_loop(train_dataloader, model, loss_fn, optimizer)\n",
    "    test_loop(test_dataloader, model, loss_fn)\n",
    "    \n",
    "print(\"Done!\")\n",
    "\n",
    "learning_rate = 1e-3\n",
    "batch_size = 64\n",
    "epochs = 10"
   ]
  },
  {
   "cell_type": "markdown",
   "metadata": {},
   "source": [
    "Train loop / Test loop"
   ]
  },
  {
   "cell_type": "code",
   "execution_count": 182,
   "metadata": {},
   "outputs": [
    {
     "name": "stdout",
     "output_type": "stream",
     "text": [
      "Model structure: NeuralNetwork(\n",
      "  (flatten): Flatten(start_dim=1, end_dim=-1)\n",
      "  (linear_relu_stack): Sequential(\n",
      "    (0): Linear(in_features=13, out_features=28, bias=True)\n",
      "    (1): ReLU()\n",
      "    (2): Linear(in_features=28, out_features=2, bias=True)\n",
      "    (3): Softmax(dim=None)\n",
      "  )\n",
      ")\n",
      "\n",
      "\n",
      "Layer: linear_relu_stack.0.weight | Size: torch.Size([28, 13]) | Values : tensor([[-0.1158,  0.1634, -0.1528,  0.1071,  0.2142,  0.0643, -0.2701, -0.1284,\n",
      "          0.2181, -0.2519, -0.0949,  0.0674, -0.2325],\n",
      "        [-0.1113,  0.0340, -0.0605, -0.0634, -0.0628,  0.1455,  0.2551, -0.1101,\n",
      "         -0.1015, -0.1997,  0.2629, -0.0891, -0.0007]],\n",
      "       grad_fn=<SliceBackward0>) \n",
      "\n",
      "Layer: linear_relu_stack.0.bias | Size: torch.Size([28]) | Values : tensor([-0.0240,  0.1946], grad_fn=<SliceBackward0>) \n",
      "\n",
      "Layer: linear_relu_stack.2.weight | Size: torch.Size([2, 28]) | Values : tensor([[ 0.1775,  0.1042,  0.0345,  0.0980,  0.1808,  0.1198,  0.0805,  0.0330,\n",
      "          0.1478, -0.1074, -0.1577,  0.0285,  0.1414, -0.0304,  0.0670, -0.1475,\n",
      "         -0.1124,  0.0523, -0.0393,  0.0866, -0.0445,  0.1574,  0.0974, -0.1404,\n",
      "          0.1101, -0.0474,  0.0180, -0.0577],\n",
      "        [-0.1450, -0.1686, -0.1528,  0.0498,  0.0885,  0.0203, -0.0435, -0.1497,\n",
      "         -0.0952, -0.1526,  0.1797, -0.0226, -0.1700, -0.0497, -0.0020, -0.1004,\n",
      "          0.0466, -0.1026, -0.1655,  0.1033, -0.1696, -0.1356,  0.0250, -0.1464,\n",
      "         -0.1870,  0.1856,  0.0769, -0.0242]], grad_fn=<SliceBackward0>) \n",
      "\n",
      "Layer: linear_relu_stack.2.bias | Size: torch.Size([2]) | Values : tensor([0.0671, 0.0659], grad_fn=<SliceBackward0>) \n",
      "\n"
     ]
    }
   ],
   "source": [
    "print(f\"Model structure: {model}\\n\\n\")\n",
    "\n",
    "for name, param in model.named_parameters():\n",
    "    print(f\"Layer: {name} | Size: {param.size()} | Values : {param[:2]} \\n\")\n"
   ]
  },
  {
   "cell_type": "code",
   "execution_count": null,
   "metadata": {},
   "outputs": [],
   "source": []
  },
  {
   "cell_type": "code",
   "execution_count": null,
   "metadata": {},
   "outputs": [],
   "source": []
  },
  {
   "cell_type": "code",
   "execution_count": null,
   "metadata": {},
   "outputs": [],
   "source": []
  },
  {
   "cell_type": "code",
   "execution_count": null,
   "metadata": {},
   "outputs": [],
   "source": []
  },
  {
   "cell_type": "code",
   "execution_count": null,
   "metadata": {},
   "outputs": [],
   "source": []
  },
  {
   "cell_type": "code",
   "execution_count": null,
   "metadata": {},
   "outputs": [],
   "source": []
  },
  {
   "cell_type": "code",
   "execution_count": null,
   "metadata": {},
   "outputs": [],
   "source": []
  },
  {
   "cell_type": "code",
   "execution_count": null,
   "metadata": {},
   "outputs": [],
   "source": []
  },
  {
   "cell_type": "code",
   "execution_count": null,
   "metadata": {},
   "outputs": [
    {
     "name": "stdout",
     "output_type": "stream",
     "text": [
      "Model structure: NeuralNetwork(\n",
      "  (flatten): Flatten(start_dim=1, end_dim=-1)\n",
      "  (linear_relu_stack): Sequential(\n",
      "    (0): Linear(in_features=13, out_features=28, bias=True)\n",
      "    (1): ReLU()\n",
      "    (2): Linear(in_features=28, out_features=2, bias=True)\n",
      "    (3): Softmax(dim=None)\n",
      "  )\n",
      ")\n",
      "\n",
      "\n",
      "Layer: linear_relu_stack.0.weight | Size: torch.Size([28, 13]) | Values : tensor([[ 0.0796,  0.0650,  0.0282,  0.0006, -0.1855, -0.2478, -0.0708,  0.1813,\n",
      "         -0.2550, -0.1493, -0.1740,  0.1298,  0.0315],\n",
      "        [-0.1111,  0.0077, -0.1406,  0.1204, -0.2201, -0.1952,  0.1806, -0.1399,\n",
      "          0.0333,  0.1400, -0.2449, -0.1098,  0.0324]],\n",
      "       grad_fn=<SliceBackward0>) \n",
      "\n",
      "Layer: linear_relu_stack.0.bias | Size: torch.Size([28]) | Values : tensor([-0.2665, -0.0542], grad_fn=<SliceBackward0>) \n",
      "\n",
      "Layer: linear_relu_stack.2.weight | Size: torch.Size([2, 28]) | Values : tensor([[-0.1808, -0.0330, -0.1316, -0.0374,  0.0909,  0.1847, -0.0426, -0.0696,\n",
      "          0.1885, -0.1601, -0.0419, -0.0740, -0.1581,  0.1706, -0.1702, -0.0978,\n",
      "         -0.0587, -0.1477,  0.0602,  0.0630, -0.0787, -0.0991,  0.1513, -0.1483,\n",
      "          0.0511, -0.1106,  0.0448,  0.1838],\n",
      "        [-0.1468, -0.0811, -0.0237,  0.1255, -0.0301, -0.0957, -0.0157, -0.0727,\n",
      "          0.1092, -0.1327, -0.1571,  0.0818,  0.0066, -0.1572, -0.0700, -0.1649,\n",
      "         -0.0535, -0.0976, -0.0548, -0.1191,  0.0256, -0.0504,  0.1848,  0.0121,\n",
      "          0.0068, -0.1083,  0.0151,  0.0036]], grad_fn=<SliceBackward0>) \n",
      "\n",
      "Layer: linear_relu_stack.2.bias | Size: torch.Size([2]) | Values : tensor([0.0836, 0.0673], grad_fn=<SliceBackward0>) \n",
      "\n"
     ]
    }
   ],
   "source": []
  }
 ],
 "metadata": {
  "kernelspec": {
   "display_name": "entornoVirtualPytorch",
   "language": "python",
   "name": "entornovirtualpytorch"
  },
  "language_info": {
   "codemirror_mode": {
    "name": "ipython",
    "version": 3
   },
   "file_extension": ".py",
   "mimetype": "text/x-python",
   "name": "python",
   "nbconvert_exporter": "python",
   "pygments_lexer": "ipython3",
   "version": "3.10.12"
  }
 },
 "nbformat": 4,
 "nbformat_minor": 2
}
