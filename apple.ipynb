{
 "cells": [
  {
   "cell_type": "code",
   "execution_count": null,
   "metadata": {},
   "outputs": [
    {
     "name": "stdout",
     "output_type": "stream",
     "text": [
      "Tamany de les dades: (4000, 9)\n",
      "Numero de files: 4000\n",
      "['good' 'good' 'bad' ... 'bad' 'good' 'good']\n",
      "X\n",
      "[[ 0.00000000e+00 -3.97004852e+00 -2.51233638e+00 ...  1.84490036e+00\n",
      "   3.29839797e-01 -4.91590483e-01]\n",
      " [ 1.00000000e+00 -1.19521719e+00 -2.83925653e+00 ...  8.53285795e-01\n",
      "   8.67530082e-01 -7.22809367e-01]\n",
      " [ 2.00000000e+00 -2.92023862e-01 -1.35128199e+00 ...  2.83863551e+00\n",
      "  -3.80333280e-02  2.62163647e+00]\n",
      " ...\n",
      " [ 3.99700000e+03 -2.63451530e+00 -2.13824672e+00 ...  2.19970859e+00\n",
      "   4.76385918e+00 -1.33461139e+00]\n",
      " [ 3.99800000e+03 -4.00800374e+00 -1.77933711e+00 ...  2.16143512e+00\n",
      "   2.14488384e-01 -2.22971981e+00]\n",
      " [ 3.99900000e+03  2.78539650e-01 -1.71550503e+00 ...  1.26667740e+00\n",
      "  -7.76571470e-01  1.59979646e+00]]\n",
      "Y\n",
      "[1. 1. 0. ... 0. 1. 1.]\n",
      "(2800, 8)\n",
      "(2800,)\n",
      "(1200, 8)\n",
      "(1200,)\n"
     ]
    }
   ],
   "source": [
    "import numpy as np\n",
    "from sklearn.model_selection import train_test_split\n",
    "\n",
    "data = np.genfromtxt('/home/itibcn/Desktop/MachineLearningClassic/Practica/IntroNumpy/apple_quality.csv', delimiter=',', skip_header=True)\n",
    "\n",
    "print(\"Tamany de les dades:\", data.shape)\n",
    "print(\"Numero de files:\", len(data))\n",
    "#print(data)\n",
    "\n",
    "#data2 = np.delete(data,(0),0)\n",
    "#print(data2)\n",
    "#Canviar good i bad per 0, i cambiar tot a float \".astype(float)\"\n",
    "#data_sense_nums = np.delete(data,(8),1)\n",
    "\n",
    "#X\n",
    "apple_sense_text = np.delete(data, (-1),1)\n",
    "\n",
    "#apple_good_bad = np.delete(data,(0,1,2,3,4,5,6,7),1)\n",
    "\n",
    "#print(apple_good_bad)\n",
    "\n",
    "#Columna 8 de l'arxiu\n",
    "data = np.genfromtxt('/home/itibcn/Desktop/MachineLearningClassic/Practica/IntroNumpy/apple_quality.csv', delimiter=',', skip_header=True, dtype=str)\n",
    "#Y\n",
    "columna_8 = data[:, 8]\n",
    "print(columna_8)\n",
    "\n",
    "#-------------------------------------------------------------------------\n",
    "#Llista on volcarem les dades sense text\n",
    "apple_llista_good_bad= []\n",
    "\n",
    "#Triem la fila 8 on hi han els valors \"good\" y \"bad\"\n",
    "for val in columna_8:\n",
    "    if val == 'good':\n",
    "        apple_llista_good_bad.append(1.0)\n",
    "        #print(val)\n",
    "    elif val == 'bad':\n",
    "        #print(val)\n",
    "        apple_llista_good_bad.append(0.0)\n",
    "    else:\n",
    "        try:\n",
    "            # Intentar convertir el valor a float\n",
    "            apple_llista_good_bad.append(float(val))\n",
    "            #print(val)\n",
    "        except ValueError:\n",
    "            # Si el valor no es numèric, asignar NaN\n",
    "            print(str(data[:,8]))\n",
    "            apple_llista_good_bad.append(np.nan)\n",
    "\n",
    "#-------------------------------------------------------------------------\n",
    "#print(apple_llista_good_bad)\n",
    "\n",
    "apple_good_bad = np.array(apple_llista_good_bad, dtype = np.float32)\n",
    "#print(apple_good_bad)\n",
    "\n",
    "for x in apple_sense_text:\n",
    "    #print(apple_sense_text)\n",
    "    break\n",
    "\n",
    "print(\"X\")\n",
    "print(apple_sense_text)\n",
    "print(\"Y\")\n",
    "print(apple_good_bad)\n",
    "\n",
    "X_train, X_test, y_train, y_test = train_test_split(apple_sense_text, columna_8, test_size=0.3)\n",
    "\n",
    "#Mesures de les X,Y separades \n",
    "print(X_train.shape)\n",
    "print(y_train.shape)\n",
    "print(X_test.shape)\n",
    "print(y_test.shape)\n",
    "\n",
    "array_2d = columna_8.reshape(-1, 1)  # Convertir el vector en una matriu d'una columna\n",
    "\n",
    "#print(X_train)\n",
    "#print(y_train)\n",
    "#data_numeros = np.delete(data,(0),0)\n",
    "#data_numeros = np.delete(data_numeros,(1,),1)\n",
    "#print(data_numeros)"
   ]
  },
  {
   "cell_type": "code",
   "execution_count": 226,
   "metadata": {},
   "outputs": [
    {
     "name": "stdout",
     "output_type": "stream",
     "text": [
      "(2800, 8)\n",
      "(2800,)\n",
      "(1200,)\n",
      "0.8841666666666667\n"
     ]
    }
   ],
   "source": [
    "from sklearn.metrics import ConfusionMatrixDisplay, accuracy_score\n",
    "from sklearn.ensemble import RandomForestClassifier\n",
    "\n",
    "print(X_train.shape)\n",
    "print(y_train.shape)\n",
    "print(y_test.shape)\n",
    "\n",
    "\n",
    "classificador = RandomForestClassifier()\n",
    "\n",
    "classificador.fit(X_train, y_train)\n",
    "\n",
    "y_pred = classificador.predict(X_test)\n",
    "acc = accuracy_score(y_test, y_pred)\n",
    "print(acc)"
   ]
  },
  {
   "cell_type": "code",
   "execution_count": 215,
   "metadata": {},
   "outputs": [
    {
     "data": {
      "text/plain": [
       "<sklearn.metrics._plot.confusion_matrix.ConfusionMatrixDisplay at 0x78d0be19c310>"
      ]
     },
     "execution_count": 215,
     "metadata": {},
     "output_type": "execute_result"
    },
    {
     "data": {
      "image/png": "[encoded data removed]",
      "text/plain": [
       "<Figure size 640x480 with 2 Axes>"
      ]
     },
     "metadata": {},
     "output_type": "display_data"
    }
   ],
   "source": [
    "## Display the confusion matrix\n",
    "from sklearn.metrics import ConfusionMatrixDisplay\n",
    "\n",
    "ConfusionMatrixDisplay.from_estimator(classificador, X_test, y_test)\n"
   ]
  },
  {
   "cell_type": "code",
   "execution_count": null,
   "metadata": {},
   "outputs": [
    {
     "ename": "AttributeError",
     "evalue": "'SelectKBest' object has no attribute 'shape'",
     "output_type": "error",
     "traceback": [
      "\u001b[0;31m---------------------------------------------------------------------------\u001b[0m",
      "\u001b[0;31mAttributeError\u001b[0m                            Traceback (most recent call last)",
      "Cell \u001b[0;32mIn[224], line 11\u001b[0m\n\u001b[1;32m      8\u001b[0m X_train_3d \u001b[38;5;241m=\u001b[39m reductor_dimensionalitats\u001b[38;5;241m.\u001b[39mtransform(X_train)\n\u001b[1;32m      9\u001b[0m X_test_3d \u001b[38;5;241m=\u001b[39m reductor_dimensionalitats\u001b[38;5;241m.\u001b[39mtransform(X_test)\n\u001b[0;32m---> 11\u001b[0m \u001b[38;5;28mprint\u001b[39m(\u001b[43mreductor_dimensionalitats\u001b[49m\u001b[38;5;241;43m.\u001b[39;49m\u001b[43mshape\u001b[49m)\n",
      "\u001b[0;31mAttributeError\u001b[0m: 'SelectKBest' object has no attribute 'shape'"
     ]
    }
   ],
   "source": [
    "## Use Select KBest to select N amount of features.\n",
    "## test this features using the same classifier you used\n",
    "from sklearn.feature_selection import SelectKBest\n",
    "\n",
    "reductor_dimensionalitats = SelectKBest(k=7)\n",
    "reductor_dimensionalitats.fit(X_train, y_train)\n",
    "\n",
    "X_train_3d = reductor_dimensionalitats.transform(X_train)\n",
    "X_test_3d = reductor_dimensionalitats.transform(X_test)\n",
    "\n"
   ]
  },
  {
   "cell_type": "code",
   "execution_count": 221,
   "metadata": {},
   "outputs": [
    {
     "name": "stdout",
     "output_type": "stream",
     "text": [
      "0.855\n"
     ]
    }
   ],
   "source": [
    "# Train classifier with selected features\n",
    "\n",
    "classificador = RandomForestClassifier()\n",
    "\n",
    "classificador.fit(X_train_3d, y_train)\n",
    "\n",
    "y_pred = classificador.predict(X_test_3d)\n",
    "\n",
    "acc = accuracy_score(y_test, y_pred)\n",
    "print(acc)\n",
    "\n"
   ]
  },
  {
   "cell_type": "code",
   "execution_count": 222,
   "metadata": {},
   "outputs": [
    {
     "data": {
      "text/plain": [
       "<sklearn.metrics._plot.confusion_matrix.ConfusionMatrixDisplay at 0x78d0bce3d420>"
      ]
     },
     "execution_count": 222,
     "metadata": {},
     "output_type": "execute_result"
    },
    {
     "data": {
      "image/png": "[encoded data removed]",
      "text/plain": [
       "<Figure size 640x480 with 2 Axes>"
      ]
     },
     "metadata": {},
     "output_type": "display_data"
    }
   ],
   "source": [
    "## Let's visualize these features\n",
    "ConfusionMatrixDisplay.from_estimator(classificador, X_test_3d, y_test)"
   ]
  }
 ],
 "metadata": {
  "kernelspec": {
   "display_name": "venv",
   "language": "python",
   "name": "python3"
  },
  "language_info": {
   "codemirror_mode": {
    "name": "ipython",
    "version": 3
   },
   "file_extension": ".py",
   "mimetype": "text/x-python",
   "name": "python",
   "nbconvert_exporter": "python",
   "pygments_lexer": "ipython3",
   "version": "3.10.12"
  }
 },
 "nbformat": 4,
 "nbformat_minor": 2
}
